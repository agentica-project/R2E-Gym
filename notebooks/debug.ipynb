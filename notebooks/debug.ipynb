{
 "cells": [
  {
   "cell_type": "code",
   "execution_count": 36,
   "id": "6ab63d36-7b8a-4449-a32c-a11338f5385e",
   "metadata": {
    "tags": []
   },
   "outputs": [
    {
     "name": "stdout",
     "output_type": "stream",
     "text": [
      "/home/gcpuser/project/r2e/r2e-edits-internal\n"
     ]
    }
   ],
   "source": [
    "# set path to the parent dir\n",
    "import os\n",
    "import sys\n",
    "sys.path.append('src')\n",
    "os.chdir(os.path.join(os.path.expanduser('~'),'project/r2e/r2e-edits-internal'))\n",
    "\n",
    "!pwd"
   ]
  },
  {
   "cell_type": "code",
   "execution_count": 37,
   "id": "dd4e455d-a495-4345-8346-fa947fabd682",
   "metadata": {},
   "outputs": [
    {
     "data": {
      "text/html": [
       "<pre style=\"white-space:pre;overflow-x:auto;line-height:normal;font-family:Menlo,'DejaVu Sans Mono',consolas,'Courier New',monospace\"><span style=\"color: #7fbfbf; text-decoration-color: #7fbfbf\">[01/21/25 02:43:37] </span><span style=\"color: #000080; text-decoration-color: #000080\">INFO    </span> hello                                                                                 \n",
       "</pre>\n"
      ],
      "text/plain": [
       "\u001b[2;36m[01/21/25 02:43:37]\u001b[0m\u001b[2;36m \u001b[0m\u001b[34mINFO    \u001b[0m hello                                                                                 \n"
      ]
     },
     "metadata": {},
     "output_type": "display_data"
    }
   ],
   "source": [
    "from src.r2e_edits.agenthub.utils.log import get_logger\n",
    "logger = get_logger(name='jupyter')\n",
    "logger.info('hello')"
   ]
  },
  {
   "cell_type": "code",
   "execution_count": 38,
   "id": "89f86ca4-f290-45a9-9870-4c4d8c8c4667",
   "metadata": {},
   "outputs": [
    {
     "name": "stdout",
     "output_type": "stream",
     "text": [
      "Before import swebench: []\n",
      "After import swebench: []\n"
     ]
    }
   ],
   "source": [
    "import logging\n",
    "\n",
    "print(\"Before import swebench:\", logging.getLogger().handlers)\n",
    "import swebench\n",
    "print(\"After import swebench:\",  logging.getLogger().handlers)"
   ]
  },
  {
   "cell_type": "code",
   "execution_count": 39,
   "id": "d8e8f53a-1474-4b22-9237-4c659ce3b56e",
   "metadata": {},
   "outputs": [],
   "source": [
    "import swebench"
   ]
  },
  {
   "cell_type": "code",
   "execution_count": 40,
   "id": "bde1dac3-2cde-4e88-88fe-2cc3ad466001",
   "metadata": {},
   "outputs": [
    {
     "data": {
      "text/html": [
       "<pre style=\"white-space:pre;overflow-x:auto;line-height:normal;font-family:Menlo,'DejaVu Sans Mono',consolas,'Courier New',monospace\"><span style=\"color: #7fbfbf; text-decoration-color: #7fbfbf\">[01/21/25 02:43:41] </span><span style=\"color: #000080; text-decoration-color: #000080\">INFO    </span> hello                                                                                 \n",
       "</pre>\n"
      ],
      "text/plain": [
       "\u001b[2;36m[01/21/25 02:43:41]\u001b[0m\u001b[2;36m \u001b[0m\u001b[34mINFO    \u001b[0m hello                                                                                 \n"
      ]
     },
     "metadata": {},
     "output_type": "display_data"
    }
   ],
   "source": [
    "from src.r2e_edits.agenthub.utils.log import get_logger\n",
    "logger = get_logger(name='jupyter')\n",
    "logger.info('hello')"
   ]
  },
  {
   "cell_type": "markdown",
   "id": "127465a2-15d9-4de9-af5e-1155a41a78df",
   "metadata": {},
   "source": [
    "## 1 - Deepseek-R1-Qwen distillation testing"
   ]
  },
  {
   "cell_type": "code",
   "execution_count": 4,
   "id": "cdfea1d7-8e67-40ef-a029-e869288ccd96",
   "metadata": {},
   "outputs": [],
   "source": [
    "from openai import OpenAI\n",
    "client = OpenAI(base_url='http://localhost:8000/v1')"
   ]
  },
  {
   "cell_type": "code",
   "execution_count": 33,
   "id": "dc96e519-973b-4faf-a87f-2742021f1dfc",
   "metadata": {},
   "outputs": [],
   "source": [
    "messages=[\n",
    "                {\"role\": \"system\", \"content\": \"You are a helpful assistant.\"},\n",
    "                {\"role\": \"user\", \"content\": \"want to play blindfold chess 1 e4 e5 2 f4 Nc6 3 d4. your turn\"}\n",
    "            ]\n",
    "\n",
    "response = client.chat.completions.create(\n",
    "                    model=\"deepseek-ai/DeepSeek-R1-Distill-Qwen-32B\",\n",
    "                    messages=messages,\n",
    "                    temperature=0.,\n",
    "                    max_tokens=10240,\n",
    "                )"
   ]
  },
  {
   "cell_type": "code",
   "execution_count": 34,
   "id": "b2d59385-5fb2-49e7-b980-fd02b6e23768",
   "metadata": {},
   "outputs": [
    {
     "data": {
      "text/html": [
       "<pre style=\"white-space:pre;overflow-x:auto;line-height:normal;font-family:Menlo,'DejaVu Sans Mono',consolas,'Courier New',monospace\"><span style=\"color: #7fbfbf; text-decoration-color: #7fbfbf\">[01/20/25 14:22:58] </span><span style=\"color: #000080; text-decoration-color: #000080\">INFO    </span> <span style=\"font-weight: bold\">&lt;</span><span style=\"color: #ff00ff; text-decoration-color: #ff00ff; font-weight: bold\">think</span><span style=\"color: #000000; text-decoration-color: #000000\">&gt;</span>                                                                               \n",
       "<span style=\"color: #7fbfbf; text-decoration-color: #7fbfbf\">                    </span>         <span style=\"color: #000000; text-decoration-color: #000000\">Okay, so I'm trying to figure out what move to make in this blindfold chess game. The </span>\n",
       "<span style=\"color: #7fbfbf; text-decoration-color: #7fbfbf\">                    </span>         <span style=\"color: #000000; text-decoration-color: #000000\">position is after </span><span style=\"color: #008080; text-decoration-color: #008080; font-weight: bold\">1</span><span style=\"color: #000000; text-decoration-color: #000000\"> e4 e5, </span><span style=\"color: #008080; text-decoration-color: #008080; font-weight: bold\">2</span><span style=\"color: #000000; text-decoration-color: #000000\"> f4 Nc6, </span><span style=\"color: #008080; text-decoration-color: #008080; font-weight: bold\">3</span><span style=\"color: #000000; text-decoration-color: #000000\"> d4. It's my turn, and I need to decide on the </span> \n",
       "<span style=\"color: #7fbfbf; text-decoration-color: #7fbfbf\">                    </span>         <span style=\"color: #000000; text-decoration-color: #000000\">next move. Let me think through this step by step.</span>                                    \n",
       "<span style=\"color: #7fbfbf; text-decoration-color: #7fbfbf\">                    </span>                                                                                               \n",
       "<span style=\"color: #7fbfbf; text-decoration-color: #7fbfbf\">                    </span>         <span style=\"color: #000000; text-decoration-color: #000000\">First, I should visualize the board. After </span><span style=\"color: #008080; text-decoration-color: #008080; font-weight: bold\">1</span><span style=\"color: #000000; text-decoration-color: #000000\"> e4 e5, we have a standard opening with </span>  \n",
       "<span style=\"color: #7fbfbf; text-decoration-color: #7fbfbf\">                    </span>         <span style=\"color: #000000; text-decoration-color: #000000\">both kings in the center. Then, </span><span style=\"color: #008080; text-decoration-color: #008080; font-weight: bold\">2</span><span style=\"color: #000000; text-decoration-color: #000000\"> f4 is an unusual move because it's a pawn to f4, </span>   \n",
       "<span style=\"color: #7fbfbf; text-decoration-color: #7fbfbf\">                    </span>         <span style=\"color: #000000; text-decoration-color: #000000\">which is quite advanced. This might be a trap or a way to control the center. Black </span>  \n",
       "<span style=\"color: #7fbfbf; text-decoration-color: #7fbfbf\">                    </span>         <span style=\"color: #000000; text-decoration-color: #000000\">responds with Nc6, developing the knight to a central square. Then, </span><span style=\"color: #008080; text-decoration-color: #008080; font-weight: bold\">3</span><span style=\"color: #000000; text-decoration-color: #000000\"> d4, which is a </span> \n",
       "<span style=\"color: #7fbfbf; text-decoration-color: #7fbfbf\">                    </span>         <span style=\"color: #000000; text-decoration-color: #000000\">common move in the Italian Game, but here it's after f4, so the position is a bit </span>    \n",
       "<span style=\"color: #7fbfbf; text-decoration-color: #7fbfbf\">                    </span>         <span style=\"color: #000000; text-decoration-color: #000000\">different.</span>                                                                            \n",
       "<span style=\"color: #7fbfbf; text-decoration-color: #7fbfbf\">                    </span>                                                                                               \n",
       "<span style=\"color: #7fbfbf; text-decoration-color: #7fbfbf\">                    </span>         <span style=\"color: #000000; text-decoration-color: #000000\">So, the current position is:</span>                                                          \n",
       "<span style=\"color: #7fbfbf; text-decoration-color: #7fbfbf\">                    </span>                                                                                               \n",
       "<span style=\"color: #7fbfbf; text-decoration-color: #7fbfbf\">                    </span>         <span style=\"color: #000000; text-decoration-color: #000000\">- White: e4, f4, d4</span>                                                                   \n",
       "<span style=\"color: #7fbfbf; text-decoration-color: #7fbfbf\">                    </span>         <span style=\"color: #000000; text-decoration-color: #000000\">- Black: e5, Nc6</span>                                                                      \n",
       "<span style=\"color: #7fbfbf; text-decoration-color: #7fbfbf\">                    </span>                                                                                               \n",
       "<span style=\"color: #7fbfbf; text-decoration-color: #7fbfbf\">                    </span>         <span style=\"color: #000000; text-decoration-color: #000000\">I need to think about what White is trying to do. The f4 pawn is quite advanced, so it</span>\n",
       "<span style=\"color: #7fbfbf; text-decoration-color: #7fbfbf\">                    </span>         <span style=\"color: #000000; text-decoration-color: #000000\">might be a target for Black. However, it also controls the center, so White might be </span> \n",
       "<span style=\"color: #7fbfbf; text-decoration-color: #7fbfbf\">                    </span>         <span style=\"color: #000000; text-decoration-color: #000000\">aiming for a quick attack.</span>                                                            \n",
       "<span style=\"color: #7fbfbf; text-decoration-color: #7fbfbf\">                    </span>                                                                                               \n",
       "<span style=\"color: #7fbfbf; text-decoration-color: #7fbfbf\">                    </span>         <span style=\"color: #000000; text-decoration-color: #000000\">Looking at the board, White's pieces are still mostly on their starting squares. The </span> \n",
       "<span style=\"color: #7fbfbf; text-decoration-color: #7fbfbf\">                    </span>         <span style=\"color: #000000; text-decoration-color: #000000\">king is still in the center, which is a bit vulnerable. Black has developed a knight </span> \n",
       "<span style=\"color: #7fbfbf; text-decoration-color: #7fbfbf\">                    </span>         <span style=\"color: #000000; text-decoration-color: #000000\">to c6, which is a good square, controlling d4 and e5.</span>                                 \n",
       "<span style=\"color: #7fbfbf; text-decoration-color: #7fbfbf\">                    </span>                                                                                               \n",
       "<span style=\"color: #7fbfbf; text-decoration-color: #7fbfbf\">                    </span>         <span style=\"color: #000000; text-decoration-color: #000000\">Now, what are White's options? Let's consider possible moves:</span>                         \n",
       "<span style=\"color: #7fbfbf; text-decoration-color: #7fbfbf\">                    </span>                                                                                               \n",
       "<span style=\"color: #7fbfbf; text-decoration-color: #7fbfbf\">                    </span>         <span style=\"color: #008080; text-decoration-color: #008080; font-weight: bold\">1</span><span style=\"color: #000000; text-decoration-color: #000000\">. Nc3: Developing the knight to a central square, supporting the d4 pawn and </span>        \n",
       "<span style=\"color: #7fbfbf; text-decoration-color: #7fbfbf\">                    </span>         <span style=\"color: #000000; text-decoration-color: #000000\">preparing for e5.</span>                                                                     \n",
       "<span style=\"color: #7fbfbf; text-decoration-color: #7fbfbf\">                    </span>         <span style=\"color: #008080; text-decoration-color: #008080; font-weight: bold\">2</span><span style=\"color: #000000; text-decoration-color: #000000\">. Nf3: Developing the knight to f3, which is a common move in many openings, </span>        \n",
       "<span style=\"color: #7fbfbf; text-decoration-color: #7fbfbf\">                    </span>         <span style=\"color: #000000; text-decoration-color: #000000\">supporting the e4 pawn.</span>                                                               \n",
       "<span style=\"color: #7fbfbf; text-decoration-color: #7fbfbf\">                    </span>         <span style=\"color: #008080; text-decoration-color: #008080; font-weight: bold\">3</span><span style=\"color: #000000; text-decoration-color: #000000\">. Be2: Developing the bishop to e2, supporting the f4 pawn and preparing for a future</span>\n",
       "<span style=\"color: #7fbfbf; text-decoration-color: #7fbfbf\">                    </span>         <span style=\"color: #000000; text-decoration-color: #000000\">attack.</span>                                                                               \n",
       "<span style=\"color: #7fbfbf; text-decoration-color: #7fbfbf\">                    </span>         <span style=\"color: #008080; text-decoration-color: #008080; font-weight: bold\">4</span><span style=\"color: #000000; text-decoration-color: #000000\">. Qh5: A more aggressive move, putting pressure on Black's position, but it might be </span>\n",
       "<span style=\"color: #7fbfbf; text-decoration-color: #7fbfbf\">                    </span>         <span style=\"color: #000000; text-decoration-color: #000000\">too risky as the queen is exposed.</span>                                                    \n",
       "<span style=\"color: #7fbfbf; text-decoration-color: #7fbfbf\">                    </span>         <span style=\"color: #008080; text-decoration-color: #008080; font-weight: bold\">5</span><span style=\"color: #000000; text-decoration-color: #000000\">. O-O: Castling kingside to get the king to safety, but with the f4 pawn, the king </span>  \n",
       "<span style=\"color: #7fbfbf; text-decoration-color: #7fbfbf\">                    </span>         <span style=\"color: #000000; text-decoration-color: #000000\">might still be vulnerable.</span>                                                            \n",
       "<span style=\"color: #7fbfbf; text-decoration-color: #7fbfbf\">                    </span>                                                                                               \n",
       "<span style=\"color: #7fbfbf; text-decoration-color: #7fbfbf\">                    </span>         <span style=\"color: #000000; text-decoration-color: #000000\">I think the key here is to develop pieces towards the center and support the advanced </span>\n",
       "<span style=\"color: #7fbfbf; text-decoration-color: #7fbfbf\">                    </span>         <span style=\"color: #000000; text-decoration-color: #000000\">pawns. Since f4 is a strong pawn, but also a target, White needs to support it with </span>  \n",
       "<span style=\"color: #7fbfbf; text-decoration-color: #7fbfbf\">                    </span>         <span style=\"color: #000000; text-decoration-color: #000000\">pieces.</span>                                                                               \n",
       "<span style=\"color: #7fbfbf; text-decoration-color: #7fbfbf\">                    </span>                                                                                               \n",
       "<span style=\"color: #7fbfbf; text-decoration-color: #7fbfbf\">                    </span>         <span style=\"color: #000000; text-decoration-color: #000000\">Nc3 seems like a good move because it supports the d4 pawn and prepares for e5. It </span>   \n",
       "<span style=\"color: #7fbfbf; text-decoration-color: #7fbfbf\">                    </span>         <span style=\"color: #000000; text-decoration-color: #000000\">also starts to control the center. Alternatively, Nf3 could be good too, supporting e4</span>\n",
       "<span style=\"color: #7fbfbf; text-decoration-color: #7fbfbf\">                    </span>         <span style=\"color: #000000; text-decoration-color: #000000\">and preparing for a kingside attack.</span>                                                  \n",
       "<span style=\"color: #7fbfbf; text-decoration-color: #7fbfbf\">                    </span>                                                                                               \n",
       "<span style=\"color: #7fbfbf; text-decoration-color: #7fbfbf\">                    </span>         <span style=\"color: #000000; text-decoration-color: #000000\">Another thing to consider is the potential for Black to attack the f4 pawn. If White </span> \n",
       "<span style=\"color: #7fbfbf; text-decoration-color: #7fbfbf\">                    </span>         <span style=\"color: #000000; text-decoration-color: #000000\">doesn't support it, Black might be able to take it, leading to a strong center for </span>   \n",
       "<span style=\"color: #7fbfbf; text-decoration-color: #7fbfbf\">                    </span>         <span style=\"color: #000000; text-decoration-color: #000000\">Black.</span>                                                                                \n",
       "<span style=\"color: #7fbfbf; text-decoration-color: #7fbfbf\">                    </span>                                                                                               \n",
       "<span style=\"color: #7fbfbf; text-decoration-color: #7fbfbf\">                    </span>         <span style=\"color: #000000; text-decoration-color: #000000\">So, between Nc3 and Nf3, which is better? Nc3 might be more flexible because it </span>      \n",
       "<span style=\"color: #7fbfbf; text-decoration-color: #7fbfbf\">                    </span>         <span style=\"color: #000000; text-decoration-color: #000000\">supports the d4 pawn and can later go to e5, while Nf3 is more about supporting e4 and</span>\n",
       "<span style=\"color: #7fbfbf; text-decoration-color: #7fbfbf\">                    </span>         <span style=\"color: #000000; text-decoration-color: #000000\">preparing for a kingside attack.</span>                                                      \n",
       "<span style=\"color: #7fbfbf; text-decoration-color: #7fbfbf\">                    </span>                                                                                               \n",
       "<span style=\"color: #7fbfbf; text-decoration-color: #7fbfbf\">                    </span>         <span style=\"color: #000000; text-decoration-color: #000000\">Alternatively, Be2 could be a good move because it supports f4 and can later go to g4 </span>\n",
       "<span style=\"color: #7fbfbf; text-decoration-color: #7fbfbf\">                    </span>         <span style=\"color: #000000; text-decoration-color: #000000\">or h5, putting pressure on Black's position.</span>                                          \n",
       "<span style=\"color: #7fbfbf; text-decoration-color: #7fbfbf\">                    </span>                                                                                               \n",
       "<span style=\"color: #7fbfbf; text-decoration-color: #7fbfbf\">                    </span>         <span style=\"color: #000000; text-decoration-color: #000000\">I think I'll go with Nc3 because it's a solid developing move that supports the center</span>\n",
       "<span style=\"color: #7fbfbf; text-decoration-color: #7fbfbf\">                    </span>         <span style=\"color: #000000; text-decoration-color: #000000\">and prepares for further expansion.</span>                                                   \n",
       "<span style=\"color: #7fbfbf; text-decoration-color: #7fbfbf\">                    </span>         <span style=\"color: #000000; text-decoration-color: #000000\">&lt;</span><span style=\"color: #800080; text-decoration-color: #800080\">/</span><span style=\"color: #ff00ff; text-decoration-color: #ff00ff\">think</span><span style=\"font-weight: bold\">&gt;</span>                                                                              \n",
       "<span style=\"color: #7fbfbf; text-decoration-color: #7fbfbf\">                    </span>                                                                                               \n",
       "<span style=\"color: #7fbfbf; text-decoration-color: #7fbfbf\">                    </span>         <span style=\"color: #008080; text-decoration-color: #008080; font-weight: bold\">4</span>. Nc3                                                                                \n",
       "<span style=\"color: #7fbfbf; text-decoration-color: #7fbfbf\">                    </span>                                                                                               \n",
       "<span style=\"color: #7fbfbf; text-decoration-color: #7fbfbf\">                    </span>         This move develops the knight to a central square, supporting the d4 pawn and         \n",
       "<span style=\"color: #7fbfbf; text-decoration-color: #7fbfbf\">                    </span>         preparing for further expansion, while maintaining flexibility in White's position.   \n",
       "</pre>\n"
      ],
      "text/plain": [
       "\u001b[2;36m[01/20/25 14:22:58]\u001b[0m\u001b[2;36m \u001b[0m\u001b[34mINFO    \u001b[0m \u001b[1m<\u001b[0m\u001b[1;95mthink\u001b[0m\u001b[39m>\u001b[0m                                                                               \n",
       "\u001b[2;36m                    \u001b[0m         \u001b[39mOkay, so I'm trying to figure out what move to make in this blindfold chess game. The \u001b[0m\n",
       "\u001b[2;36m                    \u001b[0m         \u001b[39mposition is after \u001b[0m\u001b[1;36m1\u001b[0m\u001b[39m e4 e5, \u001b[0m\u001b[1;36m2\u001b[0m\u001b[39m f4 Nc6, \u001b[0m\u001b[1;36m3\u001b[0m\u001b[39m d4. It's my turn, and I need to decide on the \u001b[0m \n",
       "\u001b[2;36m                    \u001b[0m         \u001b[39mnext move. Let me think through this step by step.\u001b[0m                                    \n",
       "\u001b[2;36m                    \u001b[0m                                                                                               \n",
       "\u001b[2;36m                    \u001b[0m         \u001b[39mFirst, I should visualize the board. After \u001b[0m\u001b[1;36m1\u001b[0m\u001b[39m e4 e5, we have a standard opening with \u001b[0m  \n",
       "\u001b[2;36m                    \u001b[0m         \u001b[39mboth kings in the center. Then, \u001b[0m\u001b[1;36m2\u001b[0m\u001b[39m f4 is an unusual move because it's a pawn to f4, \u001b[0m   \n",
       "\u001b[2;36m                    \u001b[0m         \u001b[39mwhich is quite advanced. This might be a trap or a way to control the center. Black \u001b[0m  \n",
       "\u001b[2;36m                    \u001b[0m         \u001b[39mresponds with Nc6, developing the knight to a central square. Then, \u001b[0m\u001b[1;36m3\u001b[0m\u001b[39m d4, which is a \u001b[0m \n",
       "\u001b[2;36m                    \u001b[0m         \u001b[39mcommon move in the Italian Game, but here it's after f4, so the position is a bit \u001b[0m    \n",
       "\u001b[2;36m                    \u001b[0m         \u001b[39mdifferent.\u001b[0m                                                                            \n",
       "\u001b[2;36m                    \u001b[0m                                                                                               \n",
       "\u001b[2;36m                    \u001b[0m         \u001b[39mSo, the current position is:\u001b[0m                                                          \n",
       "\u001b[2;36m                    \u001b[0m                                                                                               \n",
       "\u001b[2;36m                    \u001b[0m         \u001b[39m- White: e4, f4, d4\u001b[0m                                                                   \n",
       "\u001b[2;36m                    \u001b[0m         \u001b[39m- Black: e5, Nc6\u001b[0m                                                                      \n",
       "\u001b[2;36m                    \u001b[0m                                                                                               \n",
       "\u001b[2;36m                    \u001b[0m         \u001b[39mI need to think about what White is trying to do. The f4 pawn is quite advanced, so it\u001b[0m\n",
       "\u001b[2;36m                    \u001b[0m         \u001b[39mmight be a target for Black. However, it also controls the center, so White might be \u001b[0m \n",
       "\u001b[2;36m                    \u001b[0m         \u001b[39maiming for a quick attack.\u001b[0m                                                            \n",
       "\u001b[2;36m                    \u001b[0m                                                                                               \n",
       "\u001b[2;36m                    \u001b[0m         \u001b[39mLooking at the board, White's pieces are still mostly on their starting squares. The \u001b[0m \n",
       "\u001b[2;36m                    \u001b[0m         \u001b[39mking is still in the center, which is a bit vulnerable. Black has developed a knight \u001b[0m \n",
       "\u001b[2;36m                    \u001b[0m         \u001b[39mto c6, which is a good square, controlling d4 and e5.\u001b[0m                                 \n",
       "\u001b[2;36m                    \u001b[0m                                                                                               \n",
       "\u001b[2;36m                    \u001b[0m         \u001b[39mNow, what are White's options? Let's consider possible moves:\u001b[0m                         \n",
       "\u001b[2;36m                    \u001b[0m                                                                                               \n",
       "\u001b[2;36m                    \u001b[0m         \u001b[1;36m1\u001b[0m\u001b[39m. Nc3: Developing the knight to a central square, supporting the d4 pawn and \u001b[0m        \n",
       "\u001b[2;36m                    \u001b[0m         \u001b[39mpreparing for e5.\u001b[0m                                                                     \n",
       "\u001b[2;36m                    \u001b[0m         \u001b[1;36m2\u001b[0m\u001b[39m. Nf3: Developing the knight to f3, which is a common move in many openings, \u001b[0m        \n",
       "\u001b[2;36m                    \u001b[0m         \u001b[39msupporting the e4 pawn.\u001b[0m                                                               \n",
       "\u001b[2;36m                    \u001b[0m         \u001b[1;36m3\u001b[0m\u001b[39m. Be2: Developing the bishop to e2, supporting the f4 pawn and preparing for a future\u001b[0m\n",
       "\u001b[2;36m                    \u001b[0m         \u001b[39mattack.\u001b[0m                                                                               \n",
       "\u001b[2;36m                    \u001b[0m         \u001b[1;36m4\u001b[0m\u001b[39m. Qh5: A more aggressive move, putting pressure on Black's position, but it might be \u001b[0m\n",
       "\u001b[2;36m                    \u001b[0m         \u001b[39mtoo risky as the queen is exposed.\u001b[0m                                                    \n",
       "\u001b[2;36m                    \u001b[0m         \u001b[1;36m5\u001b[0m\u001b[39m. O-O: Castling kingside to get the king to safety, but with the f4 pawn, the king \u001b[0m  \n",
       "\u001b[2;36m                    \u001b[0m         \u001b[39mmight still be vulnerable.\u001b[0m                                                            \n",
       "\u001b[2;36m                    \u001b[0m                                                                                               \n",
       "\u001b[2;36m                    \u001b[0m         \u001b[39mI think the key here is to develop pieces towards the center and support the advanced \u001b[0m\n",
       "\u001b[2;36m                    \u001b[0m         \u001b[39mpawns. Since f4 is a strong pawn, but also a target, White needs to support it with \u001b[0m  \n",
       "\u001b[2;36m                    \u001b[0m         \u001b[39mpieces.\u001b[0m                                                                               \n",
       "\u001b[2;36m                    \u001b[0m                                                                                               \n",
       "\u001b[2;36m                    \u001b[0m         \u001b[39mNc3 seems like a good move because it supports the d4 pawn and prepares for e5. It \u001b[0m   \n",
       "\u001b[2;36m                    \u001b[0m         \u001b[39malso starts to control the center. Alternatively, Nf3 could be good too, supporting e4\u001b[0m\n",
       "\u001b[2;36m                    \u001b[0m         \u001b[39mand preparing for a kingside attack.\u001b[0m                                                  \n",
       "\u001b[2;36m                    \u001b[0m                                                                                               \n",
       "\u001b[2;36m                    \u001b[0m         \u001b[39mAnother thing to consider is the potential for Black to attack the f4 pawn. If White \u001b[0m \n",
       "\u001b[2;36m                    \u001b[0m         \u001b[39mdoesn't support it, Black might be able to take it, leading to a strong center for \u001b[0m   \n",
       "\u001b[2;36m                    \u001b[0m         \u001b[39mBlack.\u001b[0m                                                                                \n",
       "\u001b[2;36m                    \u001b[0m                                                                                               \n",
       "\u001b[2;36m                    \u001b[0m         \u001b[39mSo, between Nc3 and Nf3, which is better? Nc3 might be more flexible because it \u001b[0m      \n",
       "\u001b[2;36m                    \u001b[0m         \u001b[39msupports the d4 pawn and can later go to e5, while Nf3 is more about supporting e4 and\u001b[0m\n",
       "\u001b[2;36m                    \u001b[0m         \u001b[39mpreparing for a kingside attack.\u001b[0m                                                      \n",
       "\u001b[2;36m                    \u001b[0m                                                                                               \n",
       "\u001b[2;36m                    \u001b[0m         \u001b[39mAlternatively, Be2 could be a good move because it supports f4 and can later go to g4 \u001b[0m\n",
       "\u001b[2;36m                    \u001b[0m         \u001b[39mor h5, putting pressure on Black's position.\u001b[0m                                          \n",
       "\u001b[2;36m                    \u001b[0m                                                                                               \n",
       "\u001b[2;36m                    \u001b[0m         \u001b[39mI think I'll go with Nc3 because it's a solid developing move that supports the center\u001b[0m\n",
       "\u001b[2;36m                    \u001b[0m         \u001b[39mand prepares for further expansion.\u001b[0m                                                   \n",
       "\u001b[2;36m                    \u001b[0m         \u001b[39m<\u001b[0m\u001b[35m/\u001b[0m\u001b[95mthink\u001b[0m\u001b[1m>\u001b[0m                                                                              \n",
       "\u001b[2;36m                    \u001b[0m                                                                                               \n",
       "\u001b[2;36m                    \u001b[0m         \u001b[1;36m4\u001b[0m. Nc3                                                                                \n",
       "\u001b[2;36m                    \u001b[0m                                                                                               \n",
       "\u001b[2;36m                    \u001b[0m         This move develops the knight to a central square, supporting the d4 pawn and         \n",
       "\u001b[2;36m                    \u001b[0m         preparing for further expansion, while maintaining flexibility in White's position.   \n"
      ]
     },
     "metadata": {},
     "output_type": "display_data"
    }
   ],
   "source": [
    "logger.info(response.choices[0].message.content)"
   ]
  },
  {
   "cell_type": "code",
   "execution_count": 35,
   "id": "59cc9373-76dc-4949-82a5-1988c698ffe7",
   "metadata": {
    "scrolled": true
   },
   "outputs": [
    {
     "data": {
      "text/html": [
       "<pre style=\"white-space:pre;overflow-x:auto;line-height:normal;font-family:Menlo,'DejaVu Sans Mono',consolas,'Courier New',monospace\"><span style=\"color: #7fbfbf; text-decoration-color: #7fbfbf\">                    </span><span style=\"color: #000080; text-decoration-color: #000080\">INFO    </span> <span style=\"color: #800080; text-decoration-color: #800080; font-weight: bold\">CompletionUsage</span><span style=\"font-weight: bold\">(</span><span style=\"color: #808000; text-decoration-color: #808000\">completion_tokens</span>=<span style=\"color: #008080; text-decoration-color: #008080; font-weight: bold\">742</span>, <span style=\"color: #808000; text-decoration-color: #808000\">prompt_tokens</span>=<span style=\"color: #008080; text-decoration-color: #008080; font-weight: bold\">35</span>, <span style=\"color: #808000; text-decoration-color: #808000\">total_tokens</span>=<span style=\"color: #008080; text-decoration-color: #008080; font-weight: bold\">777</span>,            \n",
       "<span style=\"color: #7fbfbf; text-decoration-color: #7fbfbf\">                    </span>         <span style=\"color: #808000; text-decoration-color: #808000\">completion_tokens_details</span>=<span style=\"color: #800080; text-decoration-color: #800080; font-style: italic\">None</span>, <span style=\"color: #808000; text-decoration-color: #808000\">prompt_tokens_details</span>=<span style=\"color: #800080; text-decoration-color: #800080; font-style: italic\">None</span><span style=\"font-weight: bold\">)</span>                           \n",
       "</pre>\n"
      ],
      "text/plain": [
       "\u001b[2;36m                   \u001b[0m\u001b[2;36m \u001b[0m\u001b[34mINFO    \u001b[0m \u001b[1;35mCompletionUsage\u001b[0m\u001b[1m(\u001b[0m\u001b[33mcompletion_tokens\u001b[0m=\u001b[1;36m742\u001b[0m, \u001b[33mprompt_tokens\u001b[0m=\u001b[1;36m35\u001b[0m, \u001b[33mtotal_tokens\u001b[0m=\u001b[1;36m777\u001b[0m,            \n",
       "\u001b[2;36m                    \u001b[0m         \u001b[33mcompletion_tokens_details\u001b[0m=\u001b[3;35mNone\u001b[0m, \u001b[33mprompt_tokens_details\u001b[0m=\u001b[3;35mNone\u001b[0m\u001b[1m)\u001b[0m                           \n"
      ]
     },
     "metadata": {},
     "output_type": "display_data"
    }
   ],
   "source": [
    "logger.info(response.usage)"
   ]
  },
  {
   "cell_type": "code",
   "execution_count": 18,
   "id": "0b005c05-87fb-4187-b43c-0bbd66e898ad",
   "metadata": {},
   "outputs": [
    {
     "data": {
      "text/plain": [
       "ChatCompletion(id='chatcmpl-f86bff65113342f38395d775d3a20e11', choices=[Choice(finish_reason='length', index=0, logprobs=None, message=ChatCompletionMessage(content='<think>\\nOkay, so I need to write a code that shifts all the zeros to the left in a given set of random numbers. Hmm, let me think about how to approach this.\\n\\nFirst, I should understand the problem clearly. The task is to take a list of numbers and rearrange them so that all the zeros are moved to the left side of the list. The non-zero numbers should remain in their relative order but come after the zeros.\\n\\nLet me consider an example. Suppose the input is [0, 1, 0, 3, 12]. The desired output would be [0, 0, 1, 3, 12]. So, all zeros are moved to the front, and the non-zeros follow in their original order.\\n\\nHow can I achieve this? One approach is to separate the zeros and non-zeros. I can create two lists: one for zeros and another for non-zeros. Then, I can concatenate these two lists, with zeros first.\\n\\nSo, the steps would be:\\n1. Iterate through each number in the input list.\\n2. For each number, check if it\\'s zero.\\n3. If it is zero, add it to the zeros list.\\n4. If it\\'s not zero, add it to the non-zeros list.\\n5. After processing all numbers, combine the zeros list and the non-zeros list.\\n6. The combined list will have all zeros first, followed by non-zeros.\\n\\nLet me think about the code structure. I\\'ll need to read the input list, process it, and then print the result.\\n\\nWait, but how do I read the input? The user might provide the list directly, or perhaps I should prompt them to enter the numbers. For simplicity, I can assume the input is given as a list, but maybe I should make it user-friendly by allowing input through a prompt.\\n\\nAlternatively, I can write the code to handle both cases. But for now, let\\'s focus on the core logic.\\n\\nAnother consideration: what if the list is empty? Or has all zeros? The code should handle these edge cases gracefully.\\n\\nLet me outline the code steps in pseudocode:\\n\\n- Read the input list.\\n- Initialize two empty lists: zeros and non_zeros.\\n- Loop through each number in the input list:\\n   - If number is zero, append to zeros.\\n   - Else, append to non_zeros.\\n- Concatenate zeros and non_zeros.\\n- Print the resulting list.\\n\\nThat seems straightforward. Now, let\\'s think about the actual Python code.\\n\\nI can start by defining the input list. For example:\\n\\nnumbers = [0, 1, 0, 3, 12]\\n\\nThen, create the two lists:\\n\\nzeros = []\\nnon_zeros = []\\n\\nLoop through each num in numbers:\\n\\nfor num in numbers:\\n    if num == 0:\\n        zeros.append(num)\\n    else:\\n        non_zeros.append(num)\\n\\nThen, combine them:\\n\\nresult = zeros + non_zeros\\n\\nPrint the result.\\n\\nprint(result)\\n\\nWait, but what if the user wants to input their own list? Maybe I should prompt them to enter the numbers. So, I can modify the code to read from input.\\n\\nI can use input() function to get the list. But handling that can be a bit tricky because the input will be a string. So, I need to convert it into a list of integers.\\n\\nFor example:\\n\\nuser_input = input(\"Enter the list of numbers separated by spaces: \")\\nnumbers = list(map(int, user_input.split()))\\n\\nThis way, the user can type something like \"0 1 0 3 12\" and it will be converted into the list.\\n\\nPutting it all together, the code would look like this:\\n\\nuser_input = input(\"Enter the list of numbers separated by spaces: \")\\nnumbers = list(map(int, user_input.split()))\\n\\nzeros = []\\nnon_zeros = []\\n\\nfor num in numbers:\\n    if num == 0:\\n        zeros.append(num)\\n    else:\\n        non_zeros.append(num)\\n\\nresult = zeros + non_zeros\\nprint(\"Result:\", result)\\n\\nWait, but what if the user enters an empty string? Or non-integer values? Well, for the scope of this problem, perhaps we can assume the input is correct. But in a real-world scenario, error handling would be necessary.\\n\\nAnother approach could be to count the number of zeros and then create a new list with that many zeros followed by the non-zero elements. This might be more efficient, especially for large lists, as it avoids creating two separate lists.\\n\\nLet me think about that. For example:\\n\\ncount_zeros = numbers.count(0)\\nnon_zero = [num for num in numbers if num != 0]\\nresult = [0]*count_zeros + non_zero\\n\\nThis is more concise and might be more efficient. Let me test this logic with the example.\\n\\nnumbers = [0, 1, 0, 3, 12]\\ncount_zeros = 2\\nnon_zero = [1,3,12', refusal=None, role='assistant', audio=None, function_call=None, tool_calls=[]), stop_reason=None)], created=1737382389, model='deepseek-ai/DeepSeek-R1-Distill-Qwen-32B', object='chat.completion', service_tier=None, system_fingerprint=None, usage=CompletionUsage(completion_tokens=1024, prompt_tokens=30, total_tokens=1054, completion_tokens_details=None, prompt_tokens_details=None), prompt_logprobs=None)"
      ]
     },
     "execution_count": 18,
     "metadata": {},
     "output_type": "execute_result"
    }
   ],
   "source": [
    "response"
   ]
  },
  {
   "cell_type": "code",
   "execution_count": null,
   "id": "5cc968af-cd10-4adc-866e-0006567310f5",
   "metadata": {},
   "outputs": [],
   "source": [
    "import openai\n",
    "\n",
    "# Point the OpenAI API base to your local vLLM server.\n",
    "# (If your server is on localhost:8000, adjust accordingly.)\n",
    "openai.api_base = \"http://localhost:8000/v1\"\n",
    "\n",
    "# If your local vLLM server does not require an API key, you can set a dummy key or leave it as empty.\n",
    "openai.api_key = \"EMPTY\"\n",
    "\n",
    "def chat_with_vllm():\n",
    "    try:\n",
    "        response = openai.ChatCompletion.create(\n",
    "            model=\"deepseek-ai/DeepSeek-R1-Distill-Qwen-32B\",\n",
    "            messages=[\n",
    "                {\"role\": \"system\", \"content\": \"You are a helpful assistant.\"},\n",
    "                {\"role\": \"user\", \"content\": \"Hello! How are you today?\"}\n",
    "            ],\n",
    "            temperature=0.7,\n",
    "            max_tokens=256\n",
    "        )\n",
    "        print(\"Assistant:\", response[\"choices\"][0][\"message\"][\"content\"])\n",
    "    except Exception as e:\n",
    "        print(f\"Error: {e}\")\n",
    "\n",
    "if __name__ == \"__main__\":\n",
    "    chat_with_vllm()"
   ]
  },
  {
   "cell_type": "code",
   "execution_count": 12,
   "id": "ba27179a-691e-4b60-b8b5-c51b503afd1e",
   "metadata": {},
   "outputs": [
    {
     "data": {
      "text/plain": [
       "'<think>\\nOkay, so I need to write a code that shifts all the zeros to the left in a given set of random numbers. Hmm, let me think about how to approach this.\\n\\nFirst, I should understand the problem clearly. The task is to take a list of numbers and rearrange them so that all the zeros are moved to the left side of the list. The non-zero numbers should remain in their relative order but come after the zeros.\\n\\nLet me consider an example. Suppose the input is [0, 1, 0, 3, 12]. The desired output would be [0, 0, 1, 3, 12]. So, all zeros are moved to the front, and the non-zeros follow in their original order.\\n\\nHow can I achieve this? One approach is to separate the zeros and non-zeros. I can create two lists: one for zeros and another for non-zeros. Then, I can concatenate these two lists, with zeros first.\\n\\nSo, the steps would be:\\n1. Iterate through each number in the input list.\\n2. For each number, check if it\\'s zero.\\n3. If it is zero, add it to the zeros list.\\n4. If it\\'s not zero, add it to the non-zeros list.\\n5. After processing all numbers, combine the zeros list and the non-zeros list.\\n6. The combined list will have all zeros first, followed by non-zeros.\\n\\nLet me think about the code structure. I\\'ll need to read the input list, process it, and then print the result.\\n\\nWait, but how do I read the input? The user might provide the list directly, or perhaps I should prompt them to enter the numbers. For simplicity, I can assume the input is given as a list, but maybe I should make it user-friendly by allowing input through a prompt.\\n\\nAlternatively, I can write the code to handle both cases. But for now, let\\'s focus on the core logic.\\n\\nAnother consideration: what if the list is empty? Or has all zeros? The code should handle these edge cases gracefully.\\n\\nLet me outline the code steps in pseudocode:\\n\\n- Read the input list.\\n- Initialize two empty lists: zeros and non_zeros.\\n- Loop through each number in the input list:\\n   - If number is zero, append to zeros.\\n   - Else, append to non_zeros.\\n- Concatenate zeros and non_zeros.\\n- Print the resulting list.\\n\\nThat seems straightforward. Now, let\\'s think about the actual Python code.\\n\\nI can start by defining the input list. For example:\\n\\nnumbers = [0, 1, 0, 3, 12]\\n\\nThen, create the two lists:\\n\\nzeros = []\\nnon_zeros = []\\n\\nLoop through each num in numbers:\\n\\nfor num in numbers:\\n    if num == 0:\\n        zeros.append(num)\\n    else:\\n        non_zeros.append(num)\\n\\nThen, combine them:\\n\\nresult = zeros + non_zeros\\n\\nPrint the result.\\n\\nprint(result)\\n\\nWait, but what if the user wants to input their own list? Maybe I should prompt them to enter the numbers. So, I can modify the code to read from input.\\n\\nI can use input() function to get the list. But handling that can be a bit tricky because the input will be a string. So, I need to convert it into a list of integers.\\n\\nFor example:\\n\\nuser_input = input(\"Enter the list of numbers separated by spaces: \")\\nnumbers = list(map(int, user_input.split()))\\n\\nThis way, the user can type something like \"0 1 0 3 12\" and it will be converted into the list.\\n\\nPutting it all together, the code would look like this:\\n\\nuser_input = input(\"Enter the list of numbers separated by spaces: \")\\nnumbers = list(map(int, user_input.split()))\\n\\nzeros = []\\nnon_zeros = []\\n\\nfor num in numbers:\\n    if num == 0:\\n        zeros.append(num)\\n    else:\\n        non_zeros.append(num)\\n\\nresult = zeros + non_zeros\\nprint(\"Result:\", result)\\n\\nWait, but what if the user enters an empty string? Or non-integer values? Well, for the scope of this problem, perhaps we can assume the input is correct. But in a real-world scenario, error handling would be necessary.\\n\\nAnother approach could be to count the number of zeros and then create a new list with that many zeros followed by the non-zero elements. This might be more efficient, especially for large lists, as it avoids creating two separate lists.\\n\\nLet me think about that. For example:\\n\\ncount_zeros = numbers.count(0)\\nnon_zero = [num for num in numbers if num != 0]\\nresult = [0]*count_zeros + non_zero\\n\\nThis is more concise and might be more efficient. Let me test this logic with the example.\\n\\nnumbers = [0, 1, 0, 3, 12]\\ncount_zeros = 2\\nnon_zero = [1,3,12]\\nresult = [0,0,1,3,12] which is correct.\\n\\nYes, this approach works and is more efficient as it only requires a single pass to count zeros and another to collect non-zeros, but in Python, list comprehensions are optimized, so it\\'s probably as efficient as the first method.\\n\\nSo, the code can be written more concisely as:\\n\\nuser_input = input(\"Enter the list of numbers separated by spaces: \")\\nnumbers = list(map(int, user_input.split()))\\n\\ncount_zeros = numbers.count(0)\\nnon_zero = [num for num in numbers if num != 0]\\nresult = [0]*count_zeros + non_zero\\n\\nprint(\"Result:\", result)\\n\\nThis is better because it\\'s shorter and more efficient.\\n\\nWait, but what if the list is very large? Using list comprehensions is still efficient, but the count method is O(n), and the list comprehension is another O(n), so overall it\\'s O(n), which is acceptable.\\n\\nAnother consideration: what if the list contains other data types, like strings or floats? But the problem states it\\'s a set of random numbers, so I assume they are integers.\\n\\nSo, the final code would be as above.\\n\\nLet me test it with another example. Suppose input is [1,2,0,4,0,5]. The expected output is [0,0,1,2,4,5].\\n\\nUsing the code:\\n\\ncount_zeros = 2\\nnon_zero = [1,2,4,5]\\nresult = [0,0,1,2,4,5] which is correct.\\n\\nAnother test case: all zeros. Input [0,0,0]. Output should be [0,0,0]. The code handles this.\\n\\nAnother test case: no zeros. Input [1,2,3]. Output is [1,2,3]. Correct.\\n\\nWhat about a mix with negative numbers? Input [0, -1, 0, 3, -12]. Output should be [0,0,-1,3,-12]. The code handles this because it checks for num == 0, regardless of the sign.\\n\\nYes, this should work.\\n\\nSo, the code is correct and handles all cases.\\n</think>\\n\\nTo solve this problem, we need to write a code that shifts all the zeros to the left in a given list of random numbers while maintaining the relative order of the non-zero numbers.\\n\\n### Approach\\nThe approach involves the following steps:\\n1. **Read Input**: Prompt the user to enter a list of numbers separated by spaces.\\n2. **Count Zeros**: Count the number of zeros in the input list.\\n3. **Separate Non-Zeros**: Create a list of non-zero numbers from the input list.\\n4. **Construct Result**: Form the result list by concatenating the zeros (counted earlier) followed by the non-zero numbers.\\n\\nThis method ensures that all zeros are moved to the front while the non-zero numbers retain their original order.\\n\\n### Solution Code\\n```python\\n# Read the input list of numbers\\nuser_input = input(\"Enter the list of numbers separated by spaces: \")\\nnumbers = list(map(int, user_input.split()))\\n\\n# Count the number of zeros and create a list of non-zero numbers\\ncount_zeros = numbers.count(0)\\nnon_zero = [num for num in numbers if num != 0]\\n\\n# Construct the result list\\nresult = [0] * count_zeros + non_zero\\n\\n# Print the result\\nprint(\"Result:\", result)\\n```\\n\\n### Explanation\\n1. **Reading Input**: The user is prompted to enter a string of numbers, which is then converted into a list of integers.\\n2. **Counting Zeros**: The `count` method is used to determine how many zeros are present in the list.\\n3. **Separating Non-Zeros**: A list comprehension is used to iterate through the input list and collect all non-zero numbers.\\n4. **Constructing Result**: The result list is formed by first creating a list of zeros (of length equal to the count of zeros) and then appending the list of non-zero numbers to it.\\n\\nThis approach efficiently handles the problem with a time complexity of O(n), where n is the number of elements in the input list, ensuring optimal performance even for larger lists.'"
      ]
     },
     "execution_count": 12,
     "metadata": {},
     "output_type": "execute_result"
    }
   ],
   "source": [
    "response.choices[0].message.content"
   ]
  },
  {
   "cell_type": "code",
   "execution_count": null,
   "id": "0cceabe0-a233-4514-94ab-9f70835acc51",
   "metadata": {},
   "outputs": [],
   "source": []
  }
 ],
 "metadata": {
  "kernelspec": {
   "display_name": "r2e",
   "language": "python",
   "name": "r2e"
  },
  "language_info": {
   "codemirror_mode": {
    "name": "ipython",
    "version": 3
   },
   "file_extension": ".py",
   "mimetype": "text/x-python",
   "name": "python",
   "nbconvert_exporter": "python",
   "pygments_lexer": "ipython3",
   "version": "3.12.8"
  }
 },
 "nbformat": 4,
 "nbformat_minor": 5
}
